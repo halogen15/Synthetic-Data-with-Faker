{
 "cells": [
  {
   "cell_type": "markdown",
   "metadata": {},
   "source": [
    "# Create and use synthetic data \n",
    "\n",
    "Useful for bootstrapping data, creating anonymous data, or other times you need real-looking data"
   ]
  },
  {
   "cell_type": "code",
   "execution_count": 2,
   "metadata": {},
   "outputs": [],
   "source": [
    "import numpy as np\n",
    "import pandas as pd\n",
    "from faker import Faker\n",
    "fake = Faker()\n",
    "import datetime\n",
    "import random"
   ]
  },
  {
   "cell_type": "markdown",
   "metadata": {},
   "source": [
    "## Create synthetic data\n",
    "\n",
    "#### Synthetic text"
   ]
  },
  {
   "cell_type": "code",
   "execution_count": 33,
   "metadata": {},
   "outputs": [
    {
     "data": {
      "text/plain": [
       "'Attorney city month collection evening. Lawyer focus listen age hit. Someone election effect role with whole.'"
      ]
     },
     "execution_count": 33,
     "metadata": {},
     "output_type": "execute_result"
    }
   ],
   "source": [
    "# Create synthetic text\n",
    "syntext = fake.text()\n",
    "syntext"
   ]
  },
  {
   "cell_type": "markdown",
   "metadata": {},
   "source": [
    "#### Synthetic name and address"
   ]
  },
  {
   "cell_type": "code",
   "execution_count": 5,
   "metadata": {},
   "outputs": [
    {
     "data": {
      "text/plain": [
       "'Bradley Brown'"
      ]
     },
     "execution_count": 5,
     "metadata": {},
     "output_type": "execute_result"
    }
   ],
   "source": [
    "# Create fake name\n",
    "fake.name()"
   ]
  },
  {
   "cell_type": "code",
   "execution_count": 6,
   "metadata": {},
   "outputs": [
    {
     "data": {
      "text/plain": [
       "'1091 Paula Ranch Suite 170\\nNew Jennifer, MO 07094'"
      ]
     },
     "execution_count": 6,
     "metadata": {},
     "output_type": "execute_result"
    }
   ],
   "source": [
    "# Create fake U.S. address\n",
    "fake.address()"
   ]
  },
  {
   "cell_type": "code",
   "execution_count": 8,
   "metadata": {},
   "outputs": [
    {
     "data": {
      "text/plain": [
       "'Gabriel Lecoq'"
      ]
     },
     "execution_count": 8,
     "metadata": {},
     "output_type": "execute_result"
    }
   ],
   "source": [
    "from faker import Factory\n",
    "\n",
    "# Set to France\n",
    "fake2 = Factory.create('fr_FR')\n",
    "\n",
    "# Create fake French name\n",
    "fake2.name()"
   ]
  },
  {
   "cell_type": "code",
   "execution_count": 9,
   "metadata": {},
   "outputs": [
    {
     "data": {
      "text/plain": [
       "'rue de Gaillard\\n86774 Morin'"
      ]
     },
     "execution_count": 9,
     "metadata": {},
     "output_type": "execute_result"
    }
   ],
   "source": [
    "# Create fake French address\n",
    "fake2.address()"
   ]
  },
  {
   "cell_type": "markdown",
   "metadata": {},
   "source": [
    "#### Other foreign countries include:\n",
    "- bg_BG - Bulgaria\n",
    "- cs_CZ - Czech Republic\n",
    "- de_DE - Germany\n",
    "- dk_DK - Denmark\n",
    "- el_GR - Greece\n",
    "- en_AU - Australia\n",
    "- en_CA - Canada\n",
    "- en_GC - England\n",
    "- en_US - United States\n",
    "- es_ES - Spain\n",
    "- es_MX - Mexico\n",
    "- fa_IR - Iran\n",
    "- hi_IN - India\n",
    "- it_IT - Italy\n",
    "- ja_JP - Japan\n",
    "- ko_KR - Korean\n",
    "- ru_RU - Russia\n",
    "- sv_SE - Sweden\n",
    "- tr_TR - Turkey\n",
    "- uk_UA - Ukraine\n",
    "- zh_CN - China\n",
    "- zh_TW - Taiwan"
   ]
  },
  {
   "cell_type": "markdown",
   "metadata": {},
   "source": [
    "#### Synthetic businesses"
   ]
  },
  {
   "cell_type": "code",
   "execution_count": 10,
   "metadata": {},
   "outputs": [],
   "source": [
    "# Create empty list\n",
    "business = list()"
   ]
  },
  {
   "cell_type": "code",
   "execution_count": 17,
   "metadata": {},
   "outputs": [
    {
     "name": "stdout",
     "output_type": "stream",
     "text": [
      "6.100142\n"
     ]
    }
   ],
   "source": [
    "lat = fake.latitude()\n",
    "print(lat)"
   ]
  },
  {
   "cell_type": "code",
   "execution_count": 18,
   "metadata": {},
   "outputs": [],
   "source": [
    "# Create fake business name, address, and geolocation coordinates for map\n",
    "for n in range (0,50):\n",
    "    business_name = fake.company()\n",
    "    business_address = fake.address().replace('\\n', ', ')\n",
    "    lat = fake.latitude()\n",
    "    long = fake.longitude()\n",
    "    url = fake.url()\n",
    "    business.append([business_name, business_address, lat, long, url])"
   ]
  },
  {
   "cell_type": "code",
   "execution_count": 24,
   "metadata": {},
   "outputs": [],
   "source": [
    "# Save into a dataframe\n",
    "companies = pd.DataFrame(business, columns=['company', 'address', 'lat', 'long', 'url'])\n",
    "\n",
    "# Fix lat and long data type\n",
    "companies['lat'] = pd.to_numeric(companies['lat'])\n",
    "companies['long'] = pd.to_numeric(companies['long'])"
   ]
  },
  {
   "cell_type": "code",
   "execution_count": 26,
   "metadata": {},
   "outputs": [
    {
     "data": {
      "text/html": [
       "<div>\n",
       "<style scoped>\n",
       "    .dataframe tbody tr th:only-of-type {\n",
       "        vertical-align: middle;\n",
       "    }\n",
       "\n",
       "    .dataframe tbody tr th {\n",
       "        vertical-align: top;\n",
       "    }\n",
       "\n",
       "    .dataframe thead th {\n",
       "        text-align: right;\n",
       "    }\n",
       "</style>\n",
       "<table border=\"1\" class=\"dataframe\">\n",
       "  <thead>\n",
       "    <tr style=\"text-align: right;\">\n",
       "      <th></th>\n",
       "      <th>company</th>\n",
       "      <th>address</th>\n",
       "      <th>lat</th>\n",
       "      <th>long</th>\n",
       "      <th>url</th>\n",
       "    </tr>\n",
       "  </thead>\n",
       "  <tbody>\n",
       "    <tr>\n",
       "      <td>0</td>\n",
       "      <td>Graham-Moran</td>\n",
       "      <td>14799 Kathy River Apt. 283, Barkershire, OR 54603</td>\n",
       "      <td>-56.340950</td>\n",
       "      <td>33.493974</td>\n",
       "      <td>https://www.black.com/</td>\n",
       "    </tr>\n",
       "    <tr>\n",
       "      <td>1</td>\n",
       "      <td>Hopkins-Smith</td>\n",
       "      <td>784 Matthew Lodge Apt. 746, Carneyborough, AL ...</td>\n",
       "      <td>-82.421858</td>\n",
       "      <td>-70.284524</td>\n",
       "      <td>https://moore.com/</td>\n",
       "    </tr>\n",
       "    <tr>\n",
       "      <td>2</td>\n",
       "      <td>Mckay-Peterson</td>\n",
       "      <td>USCGC Patel, FPO AA 22503</td>\n",
       "      <td>45.244301</td>\n",
       "      <td>159.248283</td>\n",
       "      <td>http://hayes-jackson.net/</td>\n",
       "    </tr>\n",
       "    <tr>\n",
       "      <td>3</td>\n",
       "      <td>Taylor-Hernandez</td>\n",
       "      <td>USNS Roman, FPO AE 59111</td>\n",
       "      <td>-27.024773</td>\n",
       "      <td>47.512085</td>\n",
       "      <td>http://www.shields.com/</td>\n",
       "    </tr>\n",
       "    <tr>\n",
       "      <td>4</td>\n",
       "      <td>Young Inc</td>\n",
       "      <td>54376 Morse Wells, North Justinbury, AR 48072</td>\n",
       "      <td>-13.228623</td>\n",
       "      <td>17.077575</td>\n",
       "      <td>https://morris.info/</td>\n",
       "    </tr>\n",
       "    <tr>\n",
       "      <td>5</td>\n",
       "      <td>Sullivan LLC</td>\n",
       "      <td>USNV Clark, FPO AE 83875</td>\n",
       "      <td>-7.292528</td>\n",
       "      <td>-86.705685</td>\n",
       "      <td>http://www.jones-riggs.net/</td>\n",
       "    </tr>\n",
       "    <tr>\n",
       "      <td>6</td>\n",
       "      <td>Lopez-Henderson</td>\n",
       "      <td>USNV Noble, FPO AE 72790</td>\n",
       "      <td>51.413168</td>\n",
       "      <td>-38.296531</td>\n",
       "      <td>http://www.kelly.biz/</td>\n",
       "    </tr>\n",
       "    <tr>\n",
       "      <td>7</td>\n",
       "      <td>Dodson, Franklin and Ortega</td>\n",
       "      <td>5461 Christopher Trail Suite 385, West Allison...</td>\n",
       "      <td>39.378939</td>\n",
       "      <td>-117.887059</td>\n",
       "      <td>http://www.wilson.com/</td>\n",
       "    </tr>\n",
       "    <tr>\n",
       "      <td>8</td>\n",
       "      <td>Tucker-Stewart</td>\n",
       "      <td>6983 Rice Circles, North Kathleenshire, NV 56409</td>\n",
       "      <td>19.152974</td>\n",
       "      <td>-46.005279</td>\n",
       "      <td>https://higgins.biz/</td>\n",
       "    </tr>\n",
       "    <tr>\n",
       "      <td>9</td>\n",
       "      <td>Lewis Inc</td>\n",
       "      <td>95709 Jason Curve Apt. 044, Hudsonbury, IL 01185</td>\n",
       "      <td>-58.651748</td>\n",
       "      <td>96.624803</td>\n",
       "      <td>http://cross-ray.com/</td>\n",
       "    </tr>\n",
       "  </tbody>\n",
       "</table>\n",
       "</div>"
      ],
      "text/plain": [
       "                       company  \\\n",
       "0                 Graham-Moran   \n",
       "1                Hopkins-Smith   \n",
       "2               Mckay-Peterson   \n",
       "3             Taylor-Hernandez   \n",
       "4                    Young Inc   \n",
       "5                 Sullivan LLC   \n",
       "6              Lopez-Henderson   \n",
       "7  Dodson, Franklin and Ortega   \n",
       "8               Tucker-Stewart   \n",
       "9                    Lewis Inc   \n",
       "\n",
       "                                             address        lat        long  \\\n",
       "0  14799 Kathy River Apt. 283, Barkershire, OR 54603 -56.340950   33.493974   \n",
       "1  784 Matthew Lodge Apt. 746, Carneyborough, AL ... -82.421858  -70.284524   \n",
       "2                          USCGC Patel, FPO AA 22503  45.244301  159.248283   \n",
       "3                           USNS Roman, FPO AE 59111 -27.024773   47.512085   \n",
       "4      54376 Morse Wells, North Justinbury, AR 48072 -13.228623   17.077575   \n",
       "5                           USNV Clark, FPO AE 83875  -7.292528  -86.705685   \n",
       "6                           USNV Noble, FPO AE 72790  51.413168  -38.296531   \n",
       "7  5461 Christopher Trail Suite 385, West Allison...  39.378939 -117.887059   \n",
       "8   6983 Rice Circles, North Kathleenshire, NV 56409  19.152974  -46.005279   \n",
       "9   95709 Jason Curve Apt. 044, Hudsonbury, IL 01185 -58.651748   96.624803   \n",
       "\n",
       "                           url  \n",
       "0       https://www.black.com/  \n",
       "1           https://moore.com/  \n",
       "2    http://hayes-jackson.net/  \n",
       "3      http://www.shields.com/  \n",
       "4         https://morris.info/  \n",
       "5  http://www.jones-riggs.net/  \n",
       "6        http://www.kelly.biz/  \n",
       "7       http://www.wilson.com/  \n",
       "8         https://higgins.biz/  \n",
       "9        http://cross-ray.com/  "
      ]
     },
     "execution_count": 26,
     "metadata": {},
     "output_type": "execute_result"
    }
   ],
   "source": [
    "companies.head(10)"
   ]
  },
  {
   "cell_type": "markdown",
   "metadata": {},
   "source": [
    "#### Create fake profile of a person"
   ]
  },
  {
   "cell_type": "code",
   "execution_count": 32,
   "metadata": {},
   "outputs": [
    {
     "data": {
      "text/plain": [
       "{'job': 'Lighting technician, broadcasting/film/video',\n",
       " 'company': 'Craig, Brooks and Gonzales',\n",
       " 'ssn': '521-14-2683',\n",
       " 'residence': '0704 Bird Pike\\nEast Wayne, RI 71229',\n",
       " 'current_location': (Decimal('57.1934875'), Decimal('-55.351392')),\n",
       " 'blood_group': 'B-',\n",
       " 'website': ['https://adams-kelley.org/',\n",
       "  'http://mercado.com/',\n",
       "  'https://www.berg.com/'],\n",
       " 'username': 'cindy95',\n",
       " 'name': 'Howard Reed',\n",
       " 'sex': 'M',\n",
       " 'address': '28921 Robles Stravenue\\nLake Emily, AL 02409',\n",
       " 'mail': 'ncampbell@hotmail.com',\n",
       " 'birthdate': datetime.date(1929, 2, 27)}"
      ]
     },
     "execution_count": 32,
     "metadata": {},
     "output_type": "execute_result"
    }
   ],
   "source": [
    "person = fake.profile()\n",
    "person"
   ]
  },
  {
   "cell_type": "markdown",
   "metadata": {},
   "source": [
    "#### Create synthetic online credit card purchase"
   ]
  },
  {
   "cell_type": "code",
   "execution_count": 45,
   "metadata": {},
   "outputs": [],
   "source": [
    "# Create dictionary with dictionary method\n",
    "agents = dict()\n",
    "\n",
    "# Create a bunch of unique user_agents\n",
    "while len(agents) < 1001:\n",
    "    agents[fake.user_agent()] = 1"
   ]
  },
  {
   "cell_type": "code",
   "execution_count": 46,
   "metadata": {},
   "outputs": [],
   "source": [
    "transact = list()\n",
    "\n",
    "for n in range(0,1000):\n",
    "    credit_card = fake.credit_card_full().split('\\n')\n",
    "    num_and_exp_date = credit_card[2].split(' ')\n",
    "    card_num = num_and_exp_date[0]\n",
    "    exp_date = num_and_exp_date[1]\n",
    "    card_type = credit_card[0]\n",
    "    card_holder_name = credit_card[1]\n",
    "    merchant_idx = random.randint(0, len(companies)-1)\n",
    "    merchant_name = companies.iloc[merchant_idx][0]\n",
    "    merchant_address = companies.iloc[merchant_idx][1]\n",
    "    transaction_date = fake.date_time_this_decade().strftime('%A %b %d, %Y at %I:%M:%S %p')\n",
    "    amount = \"{:.2f}\".format(random.uniform(0.50, 1500))\n",
    "    user_agent_str = agents.popitem()[0] #Pulls only unique user_agent strings\n",
    "    user_ip = fake.ipv6()\n",
    "    \n",
    "    transact.append([transaction_date, amount, card_num, exp_date, card_type, card_holder_name, user_agent_str, user_ip, merchant_name, merchant_address])"
   ]
  },
  {
   "cell_type": "code",
   "execution_count": 47,
   "metadata": {},
   "outputs": [],
   "source": [
    "# Create a dataframe\n",
    "transactions = pd.DataFrame(transact, columns=['Date', 'Amount','Card Number', 'Expiration Date', 'Card Type', 'Card Owner', 'User Agent', 'User IP', 'Merchant Name', 'Merchant Address'])"
   ]
  },
  {
   "cell_type": "code",
   "execution_count": 48,
   "metadata": {},
   "outputs": [
    {
     "data": {
      "text/html": [
       "<div>\n",
       "<style scoped>\n",
       "    .dataframe tbody tr th:only-of-type {\n",
       "        vertical-align: middle;\n",
       "    }\n",
       "\n",
       "    .dataframe tbody tr th {\n",
       "        vertical-align: top;\n",
       "    }\n",
       "\n",
       "    .dataframe thead th {\n",
       "        text-align: right;\n",
       "    }\n",
       "</style>\n",
       "<table border=\"1\" class=\"dataframe\">\n",
       "  <thead>\n",
       "    <tr style=\"text-align: right;\">\n",
       "      <th></th>\n",
       "      <th>Date</th>\n",
       "      <th>Amount</th>\n",
       "      <th>Card Number</th>\n",
       "      <th>Expiration Date</th>\n",
       "      <th>Card Type</th>\n",
       "      <th>Card Owner</th>\n",
       "      <th>User Agent</th>\n",
       "      <th>User IP</th>\n",
       "      <th>Merchant Name</th>\n",
       "      <th>Merchant Address</th>\n",
       "    </tr>\n",
       "  </thead>\n",
       "  <tbody>\n",
       "    <tr>\n",
       "      <td>0</td>\n",
       "      <td>Wednesday Jan 08, 2020 at 04:20:50 PM</td>\n",
       "      <td>1030.85</td>\n",
       "      <td>2295231375783314</td>\n",
       "      <td>08/23</td>\n",
       "      <td>Mastercard</td>\n",
       "      <td>Douglas Ferguson</td>\n",
       "      <td>Mozilla/5.0 (Android 3.2; Mobile; rv:65.0) Gec...</td>\n",
       "      <td>e8df:9d44:dd08:ff6a:907e:ba30:6aeb:1199</td>\n",
       "      <td>Rodriguez Inc</td>\n",
       "      <td>91068 Kimberly Wells, Port Cathy, GA 87206</td>\n",
       "    </tr>\n",
       "    <tr>\n",
       "      <td>1</td>\n",
       "      <td>Monday Jan 06, 2020 at 04:37:48 PM</td>\n",
       "      <td>366.80</td>\n",
       "      <td>4558835026366598</td>\n",
       "      <td>01/21</td>\n",
       "      <td>VISA 16 digit</td>\n",
       "      <td>Craig Haynes</td>\n",
       "      <td>Mozilla/5.0 (Macintosh; PPC Mac OS X 10_9_4 rv...</td>\n",
       "      <td>23fe:1f38:b228:264:10f6:f045:fe0a:5c27</td>\n",
       "      <td>Mejia and Sons</td>\n",
       "      <td>638 Tammy Cove, Vargaschester, ID 52401</td>\n",
       "    </tr>\n",
       "    <tr>\n",
       "      <td>2</td>\n",
       "      <td>Wednesday Jan 08, 2020 at 05:14:05 AM</td>\n",
       "      <td>1193.68</td>\n",
       "      <td>30319586603522</td>\n",
       "      <td>02/25</td>\n",
       "      <td>Diners Club / Carte Blanche</td>\n",
       "      <td>Donna Allen</td>\n",
       "      <td>Mozilla/5.0 (Windows NT 4.0) AppleWebKit/534.0...</td>\n",
       "      <td>76b7:40c2:6b67:d897:debc:9f1:b0dc:42dd</td>\n",
       "      <td>Turner Ltd</td>\n",
       "      <td>4608 Berry Run Apt. 072, Shepherdton, WV 29069</td>\n",
       "    </tr>\n",
       "    <tr>\n",
       "      <td>3</td>\n",
       "      <td>Saturday Jan 04, 2020 at 08:15:07 PM</td>\n",
       "      <td>1199.78</td>\n",
       "      <td>3545539443739910</td>\n",
       "      <td>12/23</td>\n",
       "      <td>JCB 16 digit</td>\n",
       "      <td>Melissa Jones</td>\n",
       "      <td>Mozilla/5.0 (Android 7.1.1; Mobile; rv:12.0) G...</td>\n",
       "      <td>8a23:6146:8d51:37f5:796c:c033:aa2b:fa93</td>\n",
       "      <td>Romero, Kennedy and Moreno</td>\n",
       "      <td>26236 Jeffrey Mountain Suite 637, North Gracet...</td>\n",
       "    </tr>\n",
       "    <tr>\n",
       "      <td>4</td>\n",
       "      <td>Monday Jan 06, 2020 at 10:20:14 AM</td>\n",
       "      <td>11.06</td>\n",
       "      <td>4220834172178889720</td>\n",
       "      <td>06/20</td>\n",
       "      <td>VISA 19 digit</td>\n",
       "      <td>Mark Nicholson</td>\n",
       "      <td>Mozilla/5.0 (Macintosh; U; PPC Mac OS X 10_7_5...</td>\n",
       "      <td>c98b:62e5:d925:5ce3:10d2:98f2:df51:1514</td>\n",
       "      <td>Hopkins-Smith</td>\n",
       "      <td>784 Matthew Lodge Apt. 746, Carneyborough, AL ...</td>\n",
       "    </tr>\n",
       "  </tbody>\n",
       "</table>\n",
       "</div>"
      ],
      "text/plain": [
       "                                    Date   Amount          Card Number  \\\n",
       "0  Wednesday Jan 08, 2020 at 04:20:50 PM  1030.85     2295231375783314   \n",
       "1     Monday Jan 06, 2020 at 04:37:48 PM   366.80     4558835026366598   \n",
       "2  Wednesday Jan 08, 2020 at 05:14:05 AM  1193.68       30319586603522   \n",
       "3   Saturday Jan 04, 2020 at 08:15:07 PM  1199.78     3545539443739910   \n",
       "4     Monday Jan 06, 2020 at 10:20:14 AM    11.06  4220834172178889720   \n",
       "\n",
       "  Expiration Date                    Card Type        Card Owner  \\\n",
       "0           08/23                   Mastercard  Douglas Ferguson   \n",
       "1           01/21                VISA 16 digit      Craig Haynes   \n",
       "2           02/25  Diners Club / Carte Blanche       Donna Allen   \n",
       "3           12/23                 JCB 16 digit     Melissa Jones   \n",
       "4           06/20                VISA 19 digit    Mark Nicholson   \n",
       "\n",
       "                                          User Agent  \\\n",
       "0  Mozilla/5.0 (Android 3.2; Mobile; rv:65.0) Gec...   \n",
       "1  Mozilla/5.0 (Macintosh; PPC Mac OS X 10_9_4 rv...   \n",
       "2  Mozilla/5.0 (Windows NT 4.0) AppleWebKit/534.0...   \n",
       "3  Mozilla/5.0 (Android 7.1.1; Mobile; rv:12.0) G...   \n",
       "4  Mozilla/5.0 (Macintosh; U; PPC Mac OS X 10_7_5...   \n",
       "\n",
       "                                   User IP               Merchant Name  \\\n",
       "0  e8df:9d44:dd08:ff6a:907e:ba30:6aeb:1199               Rodriguez Inc   \n",
       "1   23fe:1f38:b228:264:10f6:f045:fe0a:5c27              Mejia and Sons   \n",
       "2   76b7:40c2:6b67:d897:debc:9f1:b0dc:42dd                  Turner Ltd   \n",
       "3  8a23:6146:8d51:37f5:796c:c033:aa2b:fa93  Romero, Kennedy and Moreno   \n",
       "4  c98b:62e5:d925:5ce3:10d2:98f2:df51:1514               Hopkins-Smith   \n",
       "\n",
       "                                    Merchant Address  \n",
       "0         91068 Kimberly Wells, Port Cathy, GA 87206  \n",
       "1            638 Tammy Cove, Vargaschester, ID 52401  \n",
       "2     4608 Berry Run Apt. 072, Shepherdton, WV 29069  \n",
       "3  26236 Jeffrey Mountain Suite 637, North Gracet...  \n",
       "4  784 Matthew Lodge Apt. 746, Carneyborough, AL ...  "
      ]
     },
     "execution_count": 48,
     "metadata": {},
     "output_type": "execute_result"
    }
   ],
   "source": [
    "transactions.head()"
   ]
  }
 ],
 "metadata": {
  "kernelspec": {
   "display_name": "Python 3",
   "language": "python",
   "name": "python3"
  },
  "language_info": {
   "codemirror_mode": {
    "name": "ipython",
    "version": 3
   },
   "file_extension": ".py",
   "mimetype": "text/x-python",
   "name": "python",
   "nbconvert_exporter": "python",
   "pygments_lexer": "ipython3",
   "version": "3.7.4"
  }
 },
 "nbformat": 4,
 "nbformat_minor": 2
}
